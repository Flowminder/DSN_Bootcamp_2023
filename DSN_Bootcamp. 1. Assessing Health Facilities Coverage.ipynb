{
 "cells": [
  {
   "cell_type": "markdown",
   "id": "0fadb296",
   "metadata": {},
   "source": [
    "Romain Goldenberg / Flowminder foundation  \n",
    "<img src=\"img/f_blue@2x.png\" width=\"15%\" align=\"left\"/>"
   ]
  },
  {
   "cell_type": "markdown",
   "id": "d0e81ce0-934c-459b-b624-2493f7f25318",
   "metadata": {},
   "source": [
    "# Practical: Assessing Health Facilities Coverage\n",
    "---\n",
    "---\n",
    "This exercise provides an example of how we can use geographical data within an application.\n",
    "\n",
    "**The problem:** We want to assess health facility coverage for maternal healthcare in Kaduna state. We are interested in finding out which areas are over-stretched with a high number of women of child-bearing age (WOCBA) per health-facility. By identifying a target number of people per health facility, we can begin to highlight locations that may need further invention."
   ]
  },
  {
   "cell_type": "markdown",
   "id": "6e572acf",
   "metadata": {
    "ExecuteTime": {
     "end_time": "2021-10-08T13:57:00.065863Z",
     "start_time": "2021-10-08T13:57:00.060784Z"
    }
   },
   "source": [
    "## Getting started\n",
    "---\n",
    "### Exercise Overview\n",
    "---\n",
    "Using geospatial analysis in Python, this demo will show an assessment of health facility coverage for maternal health using the GRID3 population data for Kaduna State.\n",
    "\n",
    "In this exercise we are going to:\n",
    "\n",
    "- Load some spatial data\n",
    "- Subset the data to focus on points of interest\n",
    "- Aggregate dataset using some basic geospatial techniques\n",
    "- Try and identify connections between datasets to set targets"
   ]
  },
  {
   "cell_type": "markdown",
   "id": "d9a33920",
   "metadata": {},
   "source": [
    "### Loading Packages\n",
    "---"
   ]
  },
  {
   "cell_type": "code",
   "execution_count": null,
   "id": "8ce69aaf",
   "metadata": {
    "ExecuteTime": {
     "end_time": "2021-10-22T14:00:18.701898Z",
     "start_time": "2021-10-22T13:59:49.088847Z"
    }
   },
   "outputs": [],
   "source": [
    "# General purpose libraries.\n",
    "import pandas as pd\n",
    "import os\n",
    "import numpy as np\n",
    "\n",
    "# Geospatial libraries.\n",
    "import geopandas as gpd\n",
    "import rasterio\n",
    "from rasterio.plot import show\n",
    "import folium\n",
    "import shapely\n",
    "\n",
    "# Voronoi and Zonal statistics libraries\n",
    "from rasterstats import zonal_stats\n",
    "\n",
    "# Visualization libraries.\n",
    "from IPython.display import display\n",
    "from matplotlib import pyplot as plt\n",
    "import matplotlib.colors as mcolors"
   ]
  },
  {
   "cell_type": "markdown",
   "id": "cc130f04-0f1b-41bf-b027-b1b081d58822",
   "metadata": {},
   "source": [
    "### Loading Datasets\n",
    "---"
   ]
  },
  {
   "cell_type": "code",
   "execution_count": null,
   "id": "2d6dbe8b",
   "metadata": {
    "ExecuteTime": {
     "end_time": "2021-10-22T14:00:19.140531Z",
     "start_time": "2021-10-22T14:00:18.704888Z"
    }
   },
   "outputs": [],
   "source": [
    "# Path for the data folder\n",
    "data_path = os.path.join(os.getcwd(), \"Data\")\n",
    "\n",
    "# Path to population (we will open it later with rasterio)\n",
    "population = data_path + \"/NGA_population_v1_2_agesex_f15_49_simple.tif\"\n",
    "\n",
    "# Below, we directly open the different shapefiles datasets with geopandas:\n",
    "# 1- Health facilities\n",
    "health_care = gpd.read_file(\n",
    "    data_path + \"/health-care-facilities-primary-secondary-and-tertiary.geojson\"\n",
    ")\n",
    "# 2- State boundaries\n",
    "state_boundary = gpd.read_file(data_path + \"/state-administrative-boundaries.geojson\")\n",
    "# 3- Wards boundaries\n",
    "wards = gpd.read_file(data_path + \"/operational-ward-boundaries.geojson\")"
   ]
  },
  {
   "cell_type": "markdown",
   "id": "1bc99cb1",
   "metadata": {},
   "source": [
    "We will be using four datasets used in this example. They can be obtained from the GRID3 portal available at https://data.grid3.org/.  \n",
    "\n",
    ">1. Health facility locations\n",
    ">2. Gridded population *(We provide an already prepared dataset with women aged 15-49 for Kaduna State)*\n",
    ">3. State boundary\n",
    ">4. Ward boundaries\n",
    "\n",
    "In particular, the Nigeria Data portal is [available here](https://data.grid3.org/search?tags=NGA)\n",
    "\n",
    "\n"
   ]
  },
  {
   "cell_type": "markdown",
   "id": "cb9bd17d",
   "metadata": {},
   "source": [
    "## Filtering Public health facilities\n",
    "---"
   ]
  },
  {
   "cell_type": "markdown",
   "id": "f4c3109b-4468-4af2-a598-1ae9e26cb443",
   "metadata": {},
   "source": [
    "We will view our health facilty data below. This includes data such as their location, the type of health centre (*primary, secondary, tertiary*), and whether it is private or publicly owned. An example showing some attributes (i.e. columns) of the data is shown below:"
   ]
  },
  {
   "cell_type": "code",
   "execution_count": null,
   "id": "ded96bde",
   "metadata": {
    "ExecuteTime": {
     "end_time": "2021-10-22T14:00:19.247701Z",
     "start_time": "2021-10-22T14:00:19.142459Z"
    }
   },
   "outputs": [],
   "source": [
    "# Manually creating the list of column indices\n",
    "indices = list(range(1,3)) + [9, 11, 15, 19, 24]\n",
    "display(health_care.iloc[:, indices])"
   ]
  },
  {
   "cell_type": "markdown",
   "id": "c2395b51",
   "metadata": {
    "ExecuteTime": {
     "end_time": "2021-10-15T08:09:04.740175Z",
     "start_time": "2021-10-15T08:09:04.727791Z"
    }
   },
   "source": [
    "For our example, we are only interested in public health centers. We will therefore filter the dataset below:"
   ]
  },
  {
   "cell_type": "code",
   "execution_count": null,
   "id": "665b208a",
   "metadata": {
    "ExecuteTime": {
     "end_time": "2021-10-22T14:00:19.277462Z",
     "start_time": "2021-10-22T14:00:19.251984Z"
    }
   },
   "outputs": [],
   "source": [
    "# We select places where \"ownership\" = \"Public\", in other words public health centers.\n",
    "public_health_care = (\n",
    "    health_care[health_care[\"ownership\"] == \"Public\"].copy().reset_index(drop=True)\n",
    ")\n",
    "# We display the results.\n",
    "display(public_health_care.iloc[:, indices])"
   ]
  },
  {
   "cell_type": "markdown",
   "id": "aae8b636",
   "metadata": {},
   "source": [
    "## Visualizing our datasets\n",
    "---\n",
    "### Vector data\n",
    "---"
   ]
  },
  {
   "cell_type": "markdown",
   "id": "02c72445-0e4d-42fa-85be-5751f29e8bc2",
   "metadata": {},
   "source": [
    "All of our data is geospatial, meaning it has a relationship to spatial location. Our `health care` dataset is point(s) data, `wards` and `state_boundary` polygon(s) data. They are examples of [shapefile data](https://gisgeography.com/spatial-data-types-vector-raster/).  \n",
    "So let's visualize our data on an interactive map.\n",
    "\n",
    "Below is the first layer of our map, the `wards` of Kaduna state:"
   ]
  },
  {
   "cell_type": "code",
   "execution_count": null,
   "id": "e3f72ff4",
   "metadata": {
    "ExecuteTime": {
     "end_time": "2021-10-22T14:00:27.927084Z",
     "start_time": "2021-10-22T14:00:19.281186Z"
    }
   },
   "outputs": [],
   "source": [
    "# explore() is a geopandas method to create interactive maps.\n",
    "# we assign it to the variable 'kaduna_map', to add more map layers after.\n",
    "kaduna_map = wards.explore(\n",
    "    color=\"black\",  # Use black color for borders.\n",
    "    # Styling instructions. We fill the wards with lightgrey color (when hovering over them),\n",
    "    # and change the opacity of different elements.\n",
    "    style_kwds=dict(fillColor=\"lightgrey\",\n",
    "                    fill=True,\n",
    "                    opacity=1.,\n",
    "                    fillOpacity=0,\n",
    "                    interactive=True),\n",
    "    tiles=\"OpenStreetMap\",  # Use Open Street Map background tiles.\n",
    "    tooltip=False,  # Do not show tooltip when hovering on wards.\n",
    "    popup=\"ward_name\",  # Show the name of the ward on click.\n",
    "    # Do not show the column label \"ward_name\" in the popup.\n",
    "    popup_kwds=dict(labels=False),\n",
    "    smooth_factor=0,  # Prevent smoothing of the polygons edges.\n",
    "    name=\"wards\"  # Name of the layer in the map.\n",
    ")"
   ]
  },
  {
   "cell_type": "markdown",
   "id": "a8d2727d",
   "metadata": {},
   "source": [
    "Then we continue with our second layer, the `public_health_care` dataset:"
   ]
  },
  {
   "cell_type": "code",
   "execution_count": null,
   "id": "152a8502",
   "metadata": {
    "ExecuteTime": {
     "end_time": "2021-10-22T14:00:28.031853Z",
     "start_time": "2021-10-22T14:00:27.930152Z"
    }
   },
   "outputs": [],
   "source": [
    "public_health_care.explore(\n",
    "    m=kaduna_map,  # Pass the previous map object 'kaduna_map'.\n",
    "    column=\"category\",  # Make choropleth based on \"category\" column.\n",
    "    tooltip=\"name\",  # Show \"name\" value in tooltip (on hover)\n",
    "    # Do not show column label in the tooltip.\n",
    "    tooltip_kwds=dict(labels=False),\n",
    "    # Show the selected values in popup (on click).\n",
    "    popup=[\"category\", \"name\", \"ownership\"],\n",
    "    cmap=\"gnuplot2\",  # Use \"gnuplot2\" matplotlib color scheme.\n",
    "    marker_kwds=dict(radius=5),  # Size of the points.\n",
    "    # Styling instructions. We draw small black circles around our points,\n",
    "    # and change the opacity of different elements.\n",
    "    style_kwds=dict(color=\"black\",\n",
    "                    weight=1,\n",
    "                    fill=True,\n",
    "                    opacity=0.5,\n",
    "                    fillOpacity=0.8),\n",
    "    name=\"health_care\"  # Name of the layer in the map.\n",
    ")\n",
    "\n",
    "# Use the folium library (which Geopandas is based on for interactive mapping) to add layer control\n",
    "folium.LayerControl().add_to(kaduna_map)"
   ]
  },
  {
   "cell_type": "markdown",
   "id": "770f2098",
   "metadata": {},
   "source": [
    "We can now display our map:"
   ]
  },
  {
   "cell_type": "code",
   "execution_count": null,
   "id": "acf725e8",
   "metadata": {
    "ExecuteTime": {
     "end_time": "2021-10-22T14:00:28.565460Z",
     "start_time": "2021-10-22T14:00:28.034229Z"
    }
   },
   "outputs": [],
   "source": [
    "kaduna_map"
   ]
  },
  {
   "cell_type": "markdown",
   "id": "8a044e6c-355d-4950-90a1-2034d6cf5ff1",
   "metadata": {},
   "source": [
    "### Raster data\n",
    "---"
   ]
  },
  {
   "cell_type": "markdown",
   "id": "bdd2b0c2",
   "metadata": {},
   "source": [
    "Our  dataset is instead an example of data. Now, let's visualize our `population` [raster data](https://gisgeography.com/spatial-data-types-vector-raster/). We will use a different strategy for the sake of this exercise and produce here a simple static map.  \n",
    "We will use here the `rasterio` library to manage and open our raster data:"
   ]
  },
  {
   "cell_type": "code",
   "execution_count": null,
   "id": "725e900a",
   "metadata": {
    "ExecuteTime": {
     "end_time": "2021-10-22T14:00:28.772254Z",
     "start_time": "2021-10-22T14:00:28.569504Z"
    }
   },
   "outputs": [],
   "source": [
    "# Use rasterio to import the raster data\n",
    "with rasterio.open(population) as pop:\n",
    "    data_pop = pop.dataset_mask()  # Returns the valid data mask.\n",
    "    img_pop = pop.read()  # Returns the full image.\n",
    "    nodata_pop = pop.nodata  # Returns the value of \"no data\" cells"
   ]
  },
  {
   "cell_type": "markdown",
   "id": "396a85f5",
   "metadata": {},
   "source": [
    "Then, we can map our `population` dataset using `imshow()` from the `matplotlib` library."
   ]
  },
  {
   "cell_type": "code",
   "execution_count": null,
   "id": "323bd1d3",
   "metadata": {
    "ExecuteTime": {
     "end_time": "2021-10-22T14:00:30.560786Z",
     "start_time": "2021-10-22T14:00:28.784068Z"
    }
   },
   "outputs": [],
   "source": [
    "# We first define a normalization for our colormap (range of colors)\n",
    "norm = mcolors.TwoSlopeNorm(vmin=0, vmax=300., vcenter=30)\n",
    "\n",
    "# Then, we create a new figure\n",
    "fig, ax = plt.subplots(figsize=(10, 10))\n",
    "\n",
    "# We first plot the population data. We use 'afmhot_r' as color scheme, normalize the color scheme,\n",
    "# and provide the geographic extent of the data in 'extent'.\n",
    "plot_pop = ax.imshow(data_pop,\n",
    "                     cmap=\"afmhot_r\",\n",
    "                     norm=norm,\n",
    "                     extent=rasterio.plot.plotting_extent(pop))\n",
    "# Then, we plot our wards on top of the population data\n",
    "wards.plot(edgecolor='black', facecolor='none', linewidth=0.3, alpha=1, ax=ax)\n",
    "# Finally, we add a colorbar to the map\n",
    "fig.colorbar(plot_pop,\n",
    "             fraction=0.043,\n",
    "             pad=0.04,\n",
    "             label='Population count',\n",
    "             ax=ax)\n",
    "plt.title('Women aged 15-49 in Kaduna state')  # Title for our plot\n",
    "plt.show()  # Show the figure\n",
    "plt.close()"
   ]
  },
  {
   "cell_type": "markdown",
   "id": "8041e7ce",
   "metadata": {},
   "source": [
    "## Computing Voronoi Polygons\n",
    "---"
   ]
  },
  {
   "cell_type": "markdown",
   "id": "6804ff03-80c4-41f1-af85-5e469172ea4a",
   "metadata": {},
   "source": [
    "We are interested in finding out the health facility coverage across space.\n",
    "\n",
    "- Idea: optimize the partitioning of the area into polygons such that each polygon contains one health facility.\n",
    "- Method: [Voronoi](https://en.wikipedia.org/wiki/Voronoi_diagram) Polygon\n",
    "\n",
    "<br>\n",
    "\n",
    "<figure style=\"text-align: center;\">\n",
    "  <img\n",
    "  src=\"img/Voronoi_growth_euclidean.gif\"\n",
    "  alt=\"Voronoi.\"\n",
    "  width=\"20%\">\n",
    "  <figcaption>\n",
    "      <i> Emergence of a Voronoi tessellation from points (from \n",
    "          <a href=\"https://en.wikipedia.org/wiki/Voronoi_diagram\">Wikipedia</a></i>)\n",
    "  </figcaption>\n",
    "</figure>"
   ]
  },
  {
   "cell_type": "markdown",
   "id": "34c99a3b-3e1d-4e91-a2ff-b43aaf37ed82",
   "metadata": {},
   "source": [
    "### Check on the CRS (Coordinate Reference System)\n",
    "---\n",
    "\n",
    "Before running this algorithm, we need to make sure our datasets have the same CRS. "
   ]
  },
  {
   "cell_type": "code",
   "execution_count": null,
   "id": "de4183bd",
   "metadata": {
    "ExecuteTime": {
     "end_time": "2021-10-22T14:00:30.574696Z",
     "start_time": "2021-10-22T14:00:30.568029Z"
    }
   },
   "outputs": [],
   "source": [
    "# Using .crs (from geopandas), we easily obtain information on the dataset CRS.\n",
    "public_health_care.crs"
   ]
  },
  {
   "cell_type": "markdown",
   "id": "14875fe2",
   "metadata": {},
   "source": [
    "Currently, our data is in WGS 84 ([epsg:4326](https://epsg.io/4326)), a latitude/longitude coordinate system based on the Earth's center of mass (very common, used by the Global Positioning System among others). For our purpose, it is better to use a local projected coordinate system, rather than a global geographic system (as we currently have) to avoid distortions in results due to the projection.  \n",
    "We will now switch our data to the local CRS [epsg:26392](https://epsg.io/26392), a projected coordinate system (position measurements in meters) corresponding to Minna / Nigeria Mid Belt."
   ]
  },
  {
   "cell_type": "code",
   "execution_count": null,
   "id": "3f7f8ca1",
   "metadata": {
    "ExecuteTime": {
     "end_time": "2021-10-22T14:00:30.747612Z",
     "start_time": "2021-10-22T14:00:30.577331Z"
    }
   },
   "outputs": [],
   "source": [
    "# With .to_crs (from geopandas), we can easily reproject our data.\n",
    "public_health_care = public_health_care.to_crs(\"epsg:26392\")\n",
    "state_boundary = state_boundary.to_crs(\"epsg:26392\")\n",
    "wards = wards.to_crs(\"epsg:26392\")"
   ]
  },
  {
   "cell_type": "markdown",
   "id": "a43d71c6",
   "metadata": {},
   "source": [
    "Let's have a look at the new CRS:"
   ]
  },
  {
   "cell_type": "code",
   "execution_count": null,
   "id": "4dbeab40",
   "metadata": {
    "ExecuteTime": {
     "end_time": "2021-10-22T14:00:30.756303Z",
     "start_time": "2021-10-22T14:00:30.749813Z"
    }
   },
   "outputs": [],
   "source": [
    "public_health_care.crs"
   ]
  },
  {
   "cell_type": "markdown",
   "id": "13084fb1",
   "metadata": {},
   "source": [
    "And a quick look at the data.\\\n",
    "You should now see a difference in the coordinates of our `geometry` column, compared to the first time we opened the data:"
   ]
  },
  {
   "cell_type": "code",
   "execution_count": null,
   "id": "a8ec201b",
   "metadata": {
    "ExecuteTime": {
     "end_time": "2021-10-22T14:00:30.785953Z",
     "start_time": "2021-10-22T14:00:30.758484Z"
    }
   },
   "outputs": [],
   "source": [
    "# We display the results.\n",
    "display(public_health_care.iloc[:, indices])"
   ]
  },
  {
   "cell_type": "markdown",
   "id": "1e7157cc",
   "metadata": {},
   "source": [
    "### Running the Voronoi algorithm\n",
    "---\n",
    "We can now create our Voronoi polygons.\\\n",
    "First, we select the geometry of our datasets:"
   ]
  },
  {
   "cell_type": "code",
   "execution_count": null,
   "id": "0ddf5372",
   "metadata": {
    "ExecuteTime": {
     "end_time": "2021-10-22T14:00:30.796137Z",
     "start_time": "2021-10-22T14:00:30.788585Z"
    }
   },
   "outputs": [],
   "source": [
    "# We select the 'geometry' columns from both our datasets\n",
    "# This is our health care centers (points)\n",
    "points_health_care = public_health_care.geometry.copy()\n",
    "# Create a MultiPoint object from the GeoSeries\n",
    "points_health_care = shapely.geometry.MultiPoint(points_health_care.tolist())\n",
    "\n",
    "# And this is the boundaries of Kaduna state\n",
    "polygon_state = state_boundary.geometry.iloc[0]"
   ]
  },
  {
   "cell_type": "code",
   "execution_count": null,
   "id": "2a565df9-afb6-490c-954d-67032ccef39b",
   "metadata": {},
   "outputs": [],
   "source": [
    "polygon_state"
   ]
  },
  {
   "cell_type": "code",
   "execution_count": null,
   "id": "c5fba726-a6cd-4d3e-b5ff-3d3b10a3e32a",
   "metadata": {},
   "outputs": [],
   "source": [
    "points_health_care"
   ]
  },
  {
   "cell_type": "markdown",
   "id": "73613846-fb6c-487d-b75e-eb2584957e85",
   "metadata": {
    "ExecuteTime": {
     "end_time": "2021-10-15T10:36:51.556397Z",
     "start_time": "2021-10-15T10:36:51.545789Z"
    }
   },
   "source": [
    "Then we can run the Voronoi creation:"
   ]
  },
  {
   "cell_type": "code",
   "execution_count": null,
   "id": "73a82295-91a2-4e92-b470-e2a53af51ba8",
   "metadata": {},
   "outputs": [],
   "source": [
    "voronoi = shapely.voronoi_polygons(points_health_care, extend_to=polygon_state)"
   ]
  },
  {
   "cell_type": "code",
   "execution_count": null,
   "id": "040f206b-1289-4ca3-a2c7-3cf5e57ce72b",
   "metadata": {},
   "outputs": [],
   "source": [
    "voronoi"
   ]
  },
  {
   "cell_type": "markdown",
   "id": "f7557dcb",
   "metadata": {},
   "source": [
    "We can now extract our voronoi results and store them in a new geopandas dataset:"
   ]
  },
  {
   "cell_type": "code",
   "execution_count": null,
   "id": "6effa1be",
   "metadata": {
    "ExecuteTime": {
     "end_time": "2021-10-22T14:00:31.925905Z",
     "start_time": "2021-10-22T14:00:31.913259Z"
    }
   },
   "outputs": [],
   "source": [
    "# Extract geometries from the GeometryCollection\n",
    "geometries_list = [geom for geom in voronoi.geoms]\n",
    "# Convert list of geometries to GeoDataFrame, and make sure to indicate the CRS of the data\n",
    "# (epsg:26392, the same CRS we used to run the voronoi algorithm)\n",
    "voronoi_polygons = gpd.GeoDataFrame({'geometry': geometries_list}, crs=\"epsg:26392\")\n",
    "\n",
    "# Intersect (i.e. cut) Voronoi polygons with Kaduna state\n",
    "voronoi_polygons = voronoi_polygons.geometry.intersection(polygon_state)\n",
    "# Create a new GeoDataFrame with clipped geometries and set the CRS\n",
    "voronoi_polygons = gpd.GeoDataFrame({'geometry': voronoi_polygons}, crs=\"epsg:26392\")"
   ]
  },
  {
   "cell_type": "markdown",
   "id": "2b41c9c4",
   "metadata": {},
   "source": [
    "Finally we reproject our datasets back to the original WGS 84 CRS (epsg:4326):"
   ]
  },
  {
   "cell_type": "code",
   "execution_count": null,
   "id": "66fa60cf",
   "metadata": {
    "ExecuteTime": {
     "end_time": "2021-10-22T14:00:32.018960Z",
     "start_time": "2021-10-22T14:00:31.928900Z"
    }
   },
   "outputs": [],
   "source": [
    "voronoi_polygons = voronoi_polygons.to_crs(\"epsg:4326\")\n",
    "public_health_care = public_health_care.to_crs(\"epsg:4326\")\n",
    "state_boundary = state_boundary.to_crs(\"epsg:4326\")"
   ]
  },
  {
   "cell_type": "markdown",
   "id": "aa53b96f",
   "metadata": {},
   "source": [
    "Let's now have a look at our results!"
   ]
  },
  {
   "cell_type": "code",
   "execution_count": null,
   "id": "0ad4c777",
   "metadata": {
    "ExecuteTime": {
     "end_time": "2021-10-22T14:00:32.379041Z",
     "start_time": "2021-10-22T14:00:32.021695Z"
    }
   },
   "outputs": [],
   "source": [
    "voronoi_map = voronoi_polygons.explore(\n",
    "    color=\"black\",  # Use black color for borders.\n",
    "    # Styling instructions. We fill the wards with lightgrey color (when hovering over them),\n",
    "    # and change the opacity of different elements.\n",
    "    style_kwds=dict(fillColor=\"lightgrey\",\n",
    "                    fill=True,\n",
    "                    opacity=1.,\n",
    "                    fillOpacity=0,\n",
    "                    interactive=True),\n",
    "    tiles=\"openstreetmap\",  # Use \"Open Street Map\" background tiles.\n",
    "    tooltip=False,  # Do not show tooltip when hovering on wards.\n",
    "    smooth_factor=0,  # Prevent smoothing of the polygons edges.\n",
    "    name=\"voronoi\"  # Name of the layer in the map.\n",
    ")\n",
    "\n",
    "public_health_care.explore(\n",
    "    m=voronoi_map,  # Pass the previous map object 'voronoi_map'.\n",
    "    column=\"category\",  # Make choropleth based on \"category\" column.\n",
    "    tooltip=\"name\",  # Show \"name\" value in tooltip (on hover).\n",
    "    # Do not show column label in the tooltip.\n",
    "    tooltip_kwds=dict(labels=False),\n",
    "    popup=True,  # Show the selected values in popup (on click).\n",
    "    cmap=\"gnuplot2\",  # Use \"gnuplot2\" matplotlib color scheme.\n",
    "    marker_kwds=dict(radius=5),  # Size of the points.\n",
    "    # Styling instructions. We draw small black circles around our points,\n",
    "    # and change the opacity of different elements.\n",
    "    style_kwds=dict(color=\"black\",\n",
    "                    weight=1,\n",
    "                    fill=True,\n",
    "                    opacity=0.5,\n",
    "                    fillOpacity=0.8),\n",
    "    name=\"health_care\"  # Name of the layer in the map.\n",
    ")\n",
    "\n",
    "folium.LayerControl().add_to(voronoi_map)  # use folium to add layer control"
   ]
  },
  {
   "cell_type": "markdown",
   "id": "0bd9b646",
   "metadata": {},
   "source": [
    "We can now display our map:"
   ]
  },
  {
   "cell_type": "code",
   "execution_count": null,
   "id": "490d7ea1",
   "metadata": {
    "ExecuteTime": {
     "end_time": "2021-10-22T14:00:32.792766Z",
     "start_time": "2021-10-22T14:00:32.382760Z"
    }
   },
   "outputs": [],
   "source": [
    "voronoi_map"
   ]
  },
  {
   "cell_type": "markdown",
   "id": "ca118cee",
   "metadata": {},
   "source": [
    "## Identifying Population Coverage Target with Zonal Statistics\n",
    "---"
   ]
  },
  {
   "cell_type": "markdown",
   "id": "9a1cff48-64c6-41f7-a86b-376ddd117972",
   "metadata": {},
   "source": [
    "We are interested in finding out the population bound to specific health facilities.\n",
    "\n",
    "- Idea: find outliers in population per health facility, with a set population target.\n",
    "- Method: using zonal statistics, we can obtain summmary statistics of raster values at polygon level.\n",
    "\n",
    "We can, using zonal statistics, count the number of people living in each of our voronoi polygons:"
   ]
  },
  {
   "cell_type": "code",
   "execution_count": null,
   "id": "065962b9",
   "metadata": {
    "ExecuteTime": {
     "end_time": "2021-10-22T14:00:36.423041Z",
     "start_time": "2021-10-22T14:00:32.796520Z"
    }
   },
   "outputs": [],
   "source": [
    "# We use the function zonal_stats from the library 'rasterstats',\n",
    "# to calculate a mean and sum of population per polygon.\n",
    "# We store the results of the function in 'stats'.\n",
    "stats = zonal_stats(vectors=voronoi_polygons['geometry'],\n",
    "                    raster=population,\n",
    "                    stats=['mean', 'sum'])"
   ]
  },
  {
   "cell_type": "markdown",
   "id": "f3521f61-a027-454a-980c-b12538bf788b",
   "metadata": {},
   "source": [
    "### Data join\n",
    "---"
   ]
  },
  {
   "cell_type": "markdown",
   "id": "d0b49582",
   "metadata": {},
   "source": [
    "Then, we can join these results back to our `voronoi_polygons` dataset:"
   ]
  },
  {
   "cell_type": "code",
   "execution_count": null,
   "id": "df1678f8",
   "metadata": {
    "ExecuteTime": {
     "end_time": "2021-10-22T14:00:36.434603Z",
     "start_time": "2021-10-22T14:00:36.425688Z"
    }
   },
   "outputs": [],
   "source": [
    "# We make a dataframe out of our 'stats' results, and join it back to the voronoi polygons.\n",
    "voronoi_polygons = voronoi_polygons.join(\n",
    "    pd.DataFrame(stats), how=\"left\")  # Note the .join (simple join) method."
   ]
  },
  {
   "cell_type": "markdown",
   "id": "60cfbf63",
   "metadata": {},
   "source": [
    "We can rename the new columns, and have a look back at `voronoi_polygons`:"
   ]
  },
  {
   "cell_type": "code",
   "execution_count": null,
   "id": "3f3f2858",
   "metadata": {
    "ExecuteTime": {
     "end_time": "2021-10-22T14:00:36.467420Z",
     "start_time": "2021-10-22T14:00:36.438441Z"
    }
   },
   "outputs": [],
   "source": [
    "# Rename the columns to 'Population_mean' and 'Population_sum'\n",
    "voronoi_polygons = voronoi_polygons.rename(columns={\n",
    "    'mean': 'Population_mean',\n",
    "    'sum': 'Population_sum'\n",
    "})\n",
    "voronoi_polygons"
   ]
  },
  {
   "cell_type": "markdown",
   "id": "49477577-1314-489e-bfb6-1e4d6049cce2",
   "metadata": {},
   "source": [
    "### Spatial join\n",
    "---"
   ]
  },
  {
   "cell_type": "markdown",
   "id": "cd6ac9f0",
   "metadata": {},
   "source": [
    "We will now finally join the population data back to our `public_health_care`.  \n",
    "To make sure we join the population data from our voronoi polygons to the correct health center data points, we will peform here instead a ***spatial join***.\\\n",
    "The spatial join (denoted `.sjoin` below) is different from the simple join (denoted `.join` above) we just used. The previous join simply add the population information we calculated, by matching the data in order to each rows of the table of `voronoi_polygons`. The spatial join instead check the spatial location of each health care center point, and if this point is inside a particular voronoi polygon, it will add the information from the polygon to the point.\\\n",
    "This is done for each health care center point:"
   ]
  },
  {
   "cell_type": "code",
   "execution_count": null,
   "id": "f19372b1",
   "metadata": {
    "ExecuteTime": {
     "end_time": "2021-10-22T14:00:36.502232Z",
     "start_time": "2021-10-22T14:00:36.470684Z"
    }
   },
   "outputs": [],
   "source": [
    "# We use a spatial join to join population results back to health care centers.\n",
    "public_health_care = public_health_care.sjoin(\n",
    "    voronoi_polygons, how=\"left\")  # Note the .sjoin (spatial join) method."
   ]
  },
  {
   "cell_type": "markdown",
   "id": "8a92dc5b",
   "metadata": {},
   "source": [
    "We can make sure the data has been correctly added:"
   ]
  },
  {
   "cell_type": "code",
   "execution_count": null,
   "id": "b8b8a09e",
   "metadata": {
    "ExecuteTime": {
     "end_time": "2021-10-22T14:00:36.566002Z",
     "start_time": "2021-10-22T14:00:36.505212Z"
    }
   },
   "outputs": [],
   "source": [
    "# Display the results by descending order\n",
    "public_health_care.sort_values(by=['Population_sum'], ascending=False)\n",
    "display(public_health_care.iloc[:, indices + [26,27]])"
   ]
  },
  {
   "cell_type": "markdown",
   "id": "0cc901e3",
   "metadata": {},
   "source": [
    "And perform a final check to make sure all of our health care centers have a population value attached:"
   ]
  },
  {
   "cell_type": "code",
   "execution_count": null,
   "id": "c067e3c0",
   "metadata": {
    "ExecuteTime": {
     "end_time": "2021-10-22T14:00:36.582887Z",
     "start_time": "2021-10-22T14:00:36.570379Z"
    }
   },
   "outputs": [],
   "source": [
    "# We check for null values (missing values) in each rows, and sum it back for each columns.\n",
    "public_health_care[[\"Population_mean\",\"Population_sum\"]].isnull().sum()"
   ]
  },
  {
   "cell_type": "markdown",
   "id": "03b8fd81",
   "metadata": {},
   "source": [
    "### Setting a target\n",
    "---"
   ]
  },
  {
   "cell_type": "markdown",
   "id": "7eb997de-da5b-4954-bff8-d97f0329c447",
   "metadata": {},
   "source": [
    "Here, we set a target at 4,000 women of child-bearing age."
   ]
  },
  {
   "cell_type": "code",
   "execution_count": null,
   "id": "5cc6aebf-f2cc-46d1-b804-59e94a0490f8",
   "metadata": {},
   "outputs": [],
   "source": [
    "target = 4000"
   ]
  },
  {
   "cell_type": "markdown",
   "id": "11b34f4b-c6f8-409b-85de-991b89b930f7",
   "metadata": {},
   "source": [
    "Let's quickly plot an histogram, to have a look at the repartition of population for the different health care centers."
   ]
  },
  {
   "cell_type": "code",
   "execution_count": null,
   "id": "72adabd0",
   "metadata": {
    "ExecuteTime": {
     "end_time": "2021-10-22T14:00:36.907916Z",
     "start_time": "2021-10-22T14:00:36.585848Z"
    }
   },
   "outputs": [],
   "source": [
    "# We create a new figure\n",
    "fig, ax = plt.subplots(figsize=(14, 5))\n",
    "\n",
    "# We plot an histogram based on the 'population_sum' column\n",
    "ax.hist(public_health_care[\"Population_sum\"],\n",
    "        bins=50,\n",
    "        alpha=0.5,\n",
    "        edgecolor='black')\n",
    "\n",
    "# Draw a vertical line at population=4000\n",
    "ax.axvline(x=target, color='k', linestyle='--')\n",
    "ax.set_xlabel(\"Population\")\n",
    "ax.set_ylabel(\"Frequency\")\n",
    "\n",
    "plt.show()"
   ]
  },
  {
   "cell_type": "markdown",
   "id": "f6c098b3",
   "metadata": {},
   "source": [
    "## Identifying areas above target\n",
    "---\n",
    "To finish, we just need to select voronoi areas where we have more than 4000 women of child-bearing age."
   ]
  },
  {
   "cell_type": "code",
   "execution_count": null,
   "id": "024b47e0",
   "metadata": {
    "ExecuteTime": {
     "end_time": "2021-10-22T14:00:36.917511Z",
     "start_time": "2021-10-22T14:00:36.911343Z"
    }
   },
   "outputs": [],
   "source": [
    "outliers = voronoi_polygons[voronoi_polygons[\"Population_sum\"] > target]"
   ]
  },
  {
   "cell_type": "markdown",
   "id": "4e59a22f",
   "metadata": {},
   "source": [
    "And using the different element we have already created, add our outliers to the interactive map:"
   ]
  },
  {
   "cell_type": "code",
   "execution_count": null,
   "id": "a4c270da",
   "metadata": {
    "ExecuteTime": {
     "end_time": "2021-10-22T14:00:37.177941Z",
     "start_time": "2021-10-22T14:00:36.927198Z"
    }
   },
   "outputs": [],
   "source": [
    "map_final = voronoi_polygons.explore(\n",
    "    color=\"black\",  # Use black color for borders.\n",
    "    # Styling instructions. We fill the wards with lightgrey color (when hovering over them),\n",
    "    # and change the opacity of different elements.\n",
    "    style_kwds=dict(fillColor=\"lightgrey\",\n",
    "                    fill=True,\n",
    "                    opacity=1.,\n",
    "                    fillOpacity=0,\n",
    "                    interactive=True),\n",
    "    tiles=\"openstreetmap\",  # Use \"Open Street Map\" background tiles.\n",
    "    tooltip=False,  # Do not show tooltip when hovering on wards.\n",
    "    popup=\"Population_sum\",  # show population values in popup (on click).\n",
    "    popup_kwds=dict(labels=True),  # Show column label in the popup.\n",
    "    smooth_factor=0,  # Prevent smoothing of the polygons edges.\n",
    "    name=\"voronoi\"  # Name of the layer in the map.\n",
    ")\n",
    "\n",
    "outliers.explore(\n",
    "    m=map_final,  # Pass the previous map object 'map_final'.\n",
    "    color=\"black\",  # Use black color for borders.\n",
    "    # Styling instructions. We fill the outlier wards with red color,\n",
    "    # and change the opacity of different elements.\n",
    "    style_kwds=dict(fillColor=\"red\",\n",
    "                    fill=True,\n",
    "                    opacity=0.,\n",
    "                    fillOpacity=0.5,\n",
    "                    interactive=True),\n",
    "    tooltip=False,  # Do not show tooltip when hovering on wards.\n",
    "    popup=\"Population_sum\",  # Show population values in popup (on click).\n",
    "    popup_kwds=dict(labels=True),  # Show column label in the popup.\n",
    "    smooth_factor=0,  # Prevent smoothing of the polygons edges.\n",
    "    name=\"wards\"  # Name of the layer in the map.\n",
    ")\n",
    "\n",
    "public_health_care.explore(\n",
    "    m=map_final,  # Pass the previous map object 'map_final'.\n",
    "    column=\"category\",  # Make choropleth based on \"category\" column.\n",
    "    tooltip=\"name\",  # Show \"name\" value in tooltip (on hover).\n",
    "    # Do not show column label in the tooltip.\n",
    "    tooltip_kwds=dict(labels=False),\n",
    "    popup=True,  # Show the selected values in popup (on click).\n",
    "    cmap=\"gnuplot2\",  # Use \"gnuplot2\" matplotlib color scheme.\n",
    "    marker_kwds=dict(radius=5),  # Size of the points.\n",
    "    # Styling instructions. We draw small black circles around our points,\n",
    "    # and change the opacity of different elements.\n",
    "    style_kwds=dict(color=\"black\",\n",
    "                    weight=1,\n",
    "                    fill=True,\n",
    "                    opacity=0.5,\n",
    "                    fillOpacity=0.8),\n",
    "    name=\"health_care\"  # Name of the layer in the map.\n",
    ")\n",
    "\n",
    "folium.LayerControl().add_to(map_final)  # use folium to add layer control"
   ]
  },
  {
   "cell_type": "code",
   "execution_count": null,
   "id": "6e2848b8",
   "metadata": {
    "ExecuteTime": {
     "end_time": "2021-10-22T14:00:37.625208Z",
     "start_time": "2021-10-22T14:00:37.179798Z"
    }
   },
   "outputs": [],
   "source": [
    "map_final"
   ]
  }
 ],
 "metadata": {
  "kernelspec": {
   "display_name": "Python 3 (ipykernel)",
   "language": "python",
   "name": "python3"
  },
  "language_info": {
   "codemirror_mode": {
    "name": "ipython",
    "version": 3
   },
   "file_extension": ".py",
   "mimetype": "text/x-python",
   "name": "python",
   "nbconvert_exporter": "python",
   "pygments_lexer": "ipython3",
   "version": "3.11.4"
  },
  "toc": {
   "base_numbering": 1,
   "nav_menu": {},
   "number_sections": true,
   "sideBar": true,
   "skip_h1_title": false,
   "title_cell": "Table of Contents",
   "title_sidebar": "Contents",
   "toc_cell": false,
   "toc_position": {
    "height": "calc(100% - 180px)",
    "left": "10px",
    "top": "150px",
    "width": "232px"
   },
   "toc_section_display": true,
   "toc_window_display": true
  },
  "varInspector": {
   "cols": {
    "lenName": 16,
    "lenType": 16,
    "lenVar": 40
   },
   "kernels_config": {
    "python": {
     "delete_cmd_postfix": "",
     "delete_cmd_prefix": "del ",
     "library": "var_list.py",
     "varRefreshCmd": "print(var_dic_list())"
    },
    "r": {
     "delete_cmd_postfix": ") ",
     "delete_cmd_prefix": "rm(",
     "library": "var_list.r",
     "varRefreshCmd": "cat(var_dic_list()) "
    }
   },
   "types_to_exclude": [
    "module",
    "function",
    "builtin_function_or_method",
    "instance",
    "_Feature"
   ],
   "window_display": false
  }
 },
 "nbformat": 4,
 "nbformat_minor": 5
}
